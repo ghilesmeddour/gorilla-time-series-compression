{
 "cells": [
  {
   "cell_type": "code",
   "execution_count": 1,
   "id": "fafaa208-0cdd-4ae0-bbe2-951b6db22e63",
   "metadata": {},
   "outputs": [],
   "source": [
    "from struct import pack"
   ]
  },
  {
   "cell_type": "code",
   "execution_count": 2,
   "id": "7c2c20a3-388b-4af8-9a86-4500ec074edd",
   "metadata": {},
   "outputs": [],
   "source": [
    "import numpy as np\n",
    "import pandas as pd\n",
    "from bitarray import util"
   ]
  },
  {
   "cell_type": "markdown",
   "id": "09e4079a-726d-4093-9cf5-514efebe8fc0",
   "metadata": {},
   "source": [
    "# Figure 4"
   ]
  },
  {
   "cell_type": "code",
   "execution_count": 3,
   "id": "b1cb32bf-579c-4925-b55e-4a1e7fa26faa",
   "metadata": {},
   "outputs": [],
   "source": [
    "def figure_4(decimal):\n",
    "    double_representation = [pack(\">d\", d).hex() for d in decimal]\n",
    "    xor_with_previous = [None] + [\n",
    "        util.ba2hex(util.hex2ba(cur) ^ util.hex2ba(prev))\n",
    "        for prev, cur in zip(double_representation[:-1], double_representation[1:])\n",
    "    ]\n",
    "\n",
    "    df = pd.DataFrame(\n",
    "        data={\n",
    "            \"Decimal\": decimal,\n",
    "            \"Double Representation\": double_representation,\n",
    "            \"XOR with previous\": xor_with_previous,\n",
    "        }\n",
    "    ).set_index(\"Decimal\")\n",
    "\n",
    "    return df"
   ]
  },
  {
   "cell_type": "code",
   "execution_count": 4,
   "id": "5dfa5584-e4b0-4f1b-8b4f-2003e06f6d55",
   "metadata": {},
   "outputs": [
    {
     "data": {
      "text/html": [
       "<div>\n",
       "<style scoped>\n",
       "    .dataframe tbody tr th:only-of-type {\n",
       "        vertical-align: middle;\n",
       "    }\n",
       "\n",
       "    .dataframe tbody tr th {\n",
       "        vertical-align: top;\n",
       "    }\n",
       "\n",
       "    .dataframe thead th {\n",
       "        text-align: right;\n",
       "    }\n",
       "</style>\n",
       "<table border=\"1\" class=\"dataframe\">\n",
       "  <thead>\n",
       "    <tr style=\"text-align: right;\">\n",
       "      <th></th>\n",
       "      <th>Double Representation</th>\n",
       "      <th>XOR with previous</th>\n",
       "    </tr>\n",
       "    <tr>\n",
       "      <th>Decimal</th>\n",
       "      <th></th>\n",
       "      <th></th>\n",
       "    </tr>\n",
       "  </thead>\n",
       "  <tbody>\n",
       "    <tr>\n",
       "      <th>12</th>\n",
       "      <td>4028000000000000</td>\n",
       "      <td>None</td>\n",
       "    </tr>\n",
       "    <tr>\n",
       "      <th>24</th>\n",
       "      <td>4038000000000000</td>\n",
       "      <td>0010000000000000</td>\n",
       "    </tr>\n",
       "    <tr>\n",
       "      <th>15</th>\n",
       "      <td>402e000000000000</td>\n",
       "      <td>0016000000000000</td>\n",
       "    </tr>\n",
       "    <tr>\n",
       "      <th>12</th>\n",
       "      <td>4028000000000000</td>\n",
       "      <td>0006000000000000</td>\n",
       "    </tr>\n",
       "    <tr>\n",
       "      <th>35</th>\n",
       "      <td>4041800000000000</td>\n",
       "      <td>0069800000000000</td>\n",
       "    </tr>\n",
       "  </tbody>\n",
       "</table>\n",
       "</div>"
      ],
      "text/plain": [
       "        Double Representation XOR with previous\n",
       "Decimal                                        \n",
       "12           4028000000000000              None\n",
       "24           4038000000000000  0010000000000000\n",
       "15           402e000000000000  0016000000000000\n",
       "12           4028000000000000  0006000000000000\n",
       "35           4041800000000000  0069800000000000"
      ]
     },
     "execution_count": 4,
     "metadata": {},
     "output_type": "execute_result"
    }
   ],
   "source": [
    "figure_4([12, 24, 15, 12, 35])"
   ]
  },
  {
   "cell_type": "code",
   "execution_count": 5,
   "id": "985dfadf-5cc1-427c-98b9-65ccf469893d",
   "metadata": {},
   "outputs": [
    {
     "data": {
      "text/html": [
       "<div>\n",
       "<style scoped>\n",
       "    .dataframe tbody tr th:only-of-type {\n",
       "        vertical-align: middle;\n",
       "    }\n",
       "\n",
       "    .dataframe tbody tr th {\n",
       "        vertical-align: top;\n",
       "    }\n",
       "\n",
       "    .dataframe thead th {\n",
       "        text-align: right;\n",
       "    }\n",
       "</style>\n",
       "<table border=\"1\" class=\"dataframe\">\n",
       "  <thead>\n",
       "    <tr style=\"text-align: right;\">\n",
       "      <th></th>\n",
       "      <th>Double Representation</th>\n",
       "      <th>XOR with previous</th>\n",
       "    </tr>\n",
       "    <tr>\n",
       "      <th>Decimal</th>\n",
       "      <th></th>\n",
       "      <th></th>\n",
       "    </tr>\n",
       "  </thead>\n",
       "  <tbody>\n",
       "    <tr>\n",
       "      <th>15.5000</th>\n",
       "      <td>402f000000000000</td>\n",
       "      <td>None</td>\n",
       "    </tr>\n",
       "    <tr>\n",
       "      <th>14.0625</th>\n",
       "      <td>402c200000000000</td>\n",
       "      <td>0003200000000000</td>\n",
       "    </tr>\n",
       "    <tr>\n",
       "      <th>3.2500</th>\n",
       "      <td>400a000000000000</td>\n",
       "      <td>0026200000000000</td>\n",
       "    </tr>\n",
       "    <tr>\n",
       "      <th>8.6250</th>\n",
       "      <td>4021400000000000</td>\n",
       "      <td>002b400000000000</td>\n",
       "    </tr>\n",
       "    <tr>\n",
       "      <th>13.1000</th>\n",
       "      <td>402a333333333333</td>\n",
       "      <td>000b733333333333</td>\n",
       "    </tr>\n",
       "  </tbody>\n",
       "</table>\n",
       "</div>"
      ],
      "text/plain": [
       "        Double Representation XOR with previous\n",
       "Decimal                                        \n",
       "15.5000      402f000000000000              None\n",
       "14.0625      402c200000000000  0003200000000000\n",
       "3.2500       400a000000000000  0026200000000000\n",
       "8.6250       4021400000000000  002b400000000000\n",
       "13.1000      402a333333333333  000b733333333333"
      ]
     },
     "execution_count": 5,
     "metadata": {},
     "output_type": "execute_result"
    }
   ],
   "source": [
    "figure_4([15.5, 14.0625, 3.25, 8.625, 13.1])"
   ]
  },
  {
   "cell_type": "code",
   "execution_count": null,
   "id": "207b542a-8b75-4d51-8eea-7d56d6524a79",
   "metadata": {},
   "outputs": [],
   "source": []
  }
 ],
 "metadata": {
  "kernelspec": {
   "display_name": "Python 3",
   "language": "python",
   "name": "python3"
  },
  "language_info": {
   "codemirror_mode": {
    "name": "ipython",
    "version": 3
   },
   "file_extension": ".py",
   "mimetype": "text/x-python",
   "name": "python",
   "nbconvert_exporter": "python",
   "pygments_lexer": "ipython3",
   "version": "3.8.10"
  }
 },
 "nbformat": 4,
 "nbformat_minor": 5
}
